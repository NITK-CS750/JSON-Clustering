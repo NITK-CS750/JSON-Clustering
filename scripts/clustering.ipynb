{
  "cells": [
    {
      "cell_type": "markdown",
      "source": [
        "# Clustering the JSON documents using all three scores"
      ],
      "metadata": {
        "id": "CX-Py4S_c4ws"
      }
    },
    {
      "cell_type": "code",
      "execution_count": null,
      "metadata": {
        "id": "5Kf0rPphaHWQ"
      },
      "outputs": [],
      "source": [
        "import numpy as np\n",
        "import pandas as pd\n",
        "import matplotlib.pyplot as plt"
      ]
    },
    {
      "cell_type": "code",
      "execution_count": null,
      "metadata": {
        "id": "OgZqxqXlaHUs",
        "outputId": "028fb68a-b7a2-402e-9001-6a069548f09a"
      },
      "outputs": [
        {
          "data": {
            "text/plain": [
              "0"
            ]
          },
          "execution_count": 2,
          "metadata": {},
          "output_type": "execute_result"
        }
      ],
      "source": [
        "import os, json\n",
        "dir = os.getcwd()\n",
        "\n",
        "test_D = []\n",
        "with open(\"../outputs/scores_list.json\", 'r', encoding='utf-8') as f:\n",
        "    json_data = f.read()\n",
        "    test_D = json.loads(json_data)\n",
        "    \n",
        "test_D[0][0]"
      ]
    },
    {
      "cell_type": "code",
      "execution_count": null,
      "metadata": {
        "id": "HgQbGTRaaHUs"
      },
      "outputs": [],
      "source": [
        "from sklearn.metrics.pairwise import cosine_similarity\n",
        "from SetSimilaritySearch import all_pairs"
      ]
    },
    {
      "cell_type": "code",
      "execution_count": null,
      "metadata": {
        "id": "RoHyjQunaHUs"
      },
      "outputs": [],
      "source": [
        "def similarity_score_util(x, y):\n",
        "    x, y = int(x), int(y)\n",
        "\n",
        "    if (x == y):\n",
        "        return 1\n",
        "    \n",
        "    s1 = test_D[x]\n",
        "    s2 = test_D[y]\n",
        "\n",
        "    sets = []\n",
        "    sets.append(s1[3])\n",
        "    sets.append(s2[3])\n",
        "\n",
        "    score1 = all_pairs(sets, similarity_func_name = \"jaccard\", similarity_threshold = 0)        # structural score\n",
        "    score1 = list(score1)[0][2]\n",
        "    score2 = cosine_similarity(np.array(s1[1]).reshape(1, -1), np.array(s2[1]).reshape(1, -1))  # contextual score\n",
        "    score3 = semanticSimilarity(s1[2], s2[2])                                                   # semantic score\n",
        "\n",
        "    final_score = (score1/2) + (score2 + score3)/4                                              # final score that combines all three scores\n",
        "\n",
        "    return final_score\n"
      ]
    },
    {
      "cell_type": "code",
      "execution_count": null,
      "metadata": {
        "id": "zNNHwFveaHUt",
        "outputId": "a38730b0-bd56-45f8-efae-cbbda3079d04"
      },
      "outputs": [
        {
          "data": {
            "text/plain": [
              "200"
            ]
          },
          "execution_count": 46,
          "metadata": {},
          "output_type": "execute_result"
        }
      ],
      "source": [
        "list1 = [i for i in range(0, 100)]\n",
        "list2 = [i for i in range(14000, 14100)]\n",
        "list1.extend(list2)\n",
        "\n",
        "X_train = np.array(list1).reshape(-1, 1)\n",
        "len(X_train)"
      ]
    },
    {
      "cell_type": "code",
      "execution_count": null,
      "metadata": {
        "id": "XHFfxLlGaHUt"
      },
      "outputs": [],
      "source": [
        "from sklearn.metrics import pairwise_distances\n",
        "\n",
        "# function to compute pairwise distances\n",
        "def sim_affinity(X):\n",
        "    return pairwise_distances(X, metric=similarity_score_util)"
      ]
    },
    {
      "cell_type": "code",
      "execution_count": null,
      "metadata": {
        "id": "X_Ep-3YgaHUt"
      },
      "outputs": [],
      "source": [
        "from sklearn.cluster import KMeans\n",
        "def get_cluster_kmeans(tfidf_matrix, num_clusters):\n",
        "    km = KMeans(n_clusters = num_clusters)\n",
        "    km.fit(tfidf_matrix)\n",
        "    cluster_list = km.labels_.tolist()\n",
        "    return cluster_list, km"
      ]
    },
    {
      "cell_type": "code",
      "execution_count": null,
      "metadata": {
        "id": "OpwFZ_mXaHUu"
      },
      "outputs": [],
      "source": [
        "sim_aff_mat = sim_affinity(X_train)\n",
        "clustering, model = get_cluster_kmeans(sim_aff_mat, 2)\n",
        "unique_elements, counts_elements = np.unique(clustering, return_counts=True)\n",
        "print(\"Unique Elements:\", unique_elements)\n",
        "print(\"\\nValue Counts:\", list(zip(unique_elements, counts_elements)))\n",
        "\n",
        "np.where(model.labels_ == 0)"
      ]
    },
    {
      "cell_type": "code",
      "execution_count": null,
      "metadata": {
        "id": "cKl1C2ZzaHUu",
        "outputId": "a370007a-a823-4371-e6af-990e8e39e541"
      },
      "outputs": [
        {
          "data": {
            "text/plain": [
              "(array([ 0,  1,  2,  3,  4,  5,  6,  7,  8,  9, 10, 11, 12, 13, 14, 15, 16,\n",
              "        17, 18, 19, 20, 21, 22, 23, 24, 25, 26, 27, 28, 29, 30, 31, 32, 33,\n",
              "        34, 35, 36, 37, 38, 39, 40, 41, 42, 43, 44, 45, 46, 47, 48, 49, 50,\n",
              "        51, 52, 53, 54, 55, 56, 57, 58, 59, 60, 61, 62, 63, 64, 65, 66, 67,\n",
              "        68, 69, 70, 71, 72, 73, 74, 75, 76, 77, 78, 79, 80, 81, 82, 83, 84,\n",
              "        85, 86, 87, 88, 89, 90, 91, 92, 93, 94, 95, 96, 97, 98, 99],\n",
              "       dtype=int64),)"
            ]
          },
          "execution_count": 22,
          "metadata": {},
          "output_type": "execute_result"
        }
      ],
      "source": [
        "np.where(model.labels_ == 1)"
      ]
    },
    {
      "cell_type": "code",
      "execution_count": null,
      "metadata": {
        "id": "BLbfVh9DaHUu",
        "outputId": "01dd8739-5d44-4146-ab4b-f742cef536aa"
      },
      "outputs": [
        {
          "data": {
            "text/plain": [
              "168.30336570396773"
            ]
          },
          "execution_count": 23,
          "metadata": {},
          "output_type": "execute_result"
        }
      ],
      "source": [
        "model.inertia_"
      ]
    },
    {
      "cell_type": "code",
      "execution_count": null,
      "metadata": {
        "id": "r4fetCNeaHUu",
        "outputId": "612c83ee-4a23-4cec-d911-7a750dbde95d"
      },
      "outputs": [
        {
          "data": {
            "text/plain": [
              "array([[0.        , 9.21705101],\n",
              "       [9.21705101, 0.        ]])"
            ]
          },
          "execution_count": 24,
          "metadata": {},
          "output_type": "execute_result"
        }
      ],
      "source": [
        "from sklearn.metrics.pairwise import euclidean_distances\n",
        "\n",
        "dists = euclidean_distances(model.cluster_centers_)\n",
        "dists"
      ]
    },
    {
      "cell_type": "code",
      "execution_count": null,
      "metadata": {
        "id": "7fuEgUCoaHUv",
        "outputId": "53ef139f-68aa-4fbe-b4ae-b9b00df52660"
      },
      "outputs": [
        {
          "name": "stdout",
          "output_type": "stream",
          "text": [
            "\n",
            "For k = 1, \n",
            "Unique Elements: [0]\n",
            "Value Counts: [(0, 200)]\n",
            "\n",
            "For k = 2, \n",
            "Unique Elements: [0 1]\n",
            "Value Counts: [(0, 100), (1, 100)]\n",
            "\n",
            "For k = 3, \n",
            "Unique Elements: [0 1 2]\n",
            "Value Counts: [(0, 100), (1, 87), (2, 13)]\n",
            "\n",
            "For k = 4, \n",
            "Unique Elements: [0 1 2 3]\n",
            "Value Counts: [(0, 11), (1, 100), (2, 79), (3, 10)]\n",
            "\n",
            "For k = 5, \n",
            "Unique Elements: [0 1 2 3 4]\n",
            "Value Counts: [(0, 79), (1, 100), (2, 9), (3, 10), (4, 2)]\n",
            "\n",
            "For k = 6, \n",
            "Unique Elements: [0 1 2 3 4 5]\n",
            "Value Counts: [(0, 67), (1, 100), (2, 9), (3, 10), (4, 2), (5, 12)]\n",
            "\n",
            "For k = 7, \n",
            "Unique Elements: [0 1 2 3 4 5 6]\n",
            "Value Counts: [(0, 12), (1, 100), (2, 5), (3, 67), (4, 2), (5, 10), (6, 4)]\n",
            "\n",
            "For k = 8, \n",
            "Unique Elements: [0 1 2 3 4 5 6 7]\n",
            "Value Counts: [(0, 100), (1, 12), (2, 4), (3, 67), (4, 8), (5, 2), (6, 3), (7, 4)]\n",
            "\n",
            "For k = 9, \n",
            "Unique Elements: [0 1 2 3 4 5 6 7 8]\n",
            "Value Counts: [(0, 50), (1, 100), (2, 4), (3, 8), (4, 4), (5, 2), (6, 12), (7, 3), (8, 17)]\n"
          ]
        }
      ],
      "source": [
        "# finding ideal K value\n",
        "from sklearn import metrics\n",
        "from scipy.spatial.distance import cdist\n",
        "distortions = []\n",
        "inertias = []\n",
        "mapping1 = {}\n",
        "mapping2 = {}\n",
        "K = range(1, 10)\n",
        " \n",
        "for k in K:\n",
        "    # Building and fitting the model\n",
        "    clustering, kmeanModel = get_cluster_kmeans(sim_aff_mat, k)\n",
        " \n",
        "    distortions.append(sum(np.min(cdist(sim_aff_mat, kmeanModel.cluster_centers_,\n",
        "                                        'euclidean'), axis=1)) / 200)\n",
        "    inertias.append(kmeanModel.inertia_)\n",
        " \n",
        "    mapping1[k] = sum(np.min(cdist(sim_aff_mat, kmeanModel.cluster_centers_,\n",
        "                                   'euclidean'), axis=1)) / 200\n",
        "    mapping2[k] = kmeanModel.inertia_\n",
        "    unique_elements, counts_elements = np.unique(clustering, return_counts=True)\n",
        "    print(f\"\\nFor k = {k}, \\nUnique Elements: {unique_elements}\")\n",
        "    print(\"Value Counts:\", list(zip(unique_elements, counts_elements)))"
      ]
    },
    {
      "cell_type": "code",
      "execution_count": null,
      "metadata": {
        "id": "zCmnOtjzaHUv",
        "outputId": "d7246321-7528-4bc6-c5f1-710ba503bcee"
      },
      "outputs": [
        {
          "data": {
            "image/png": "[encoded data removed]",
            "text/plain": [
              "<Figure size 432x288 with 1 Axes>"
            ]
          },
          "metadata": {
            "needs_background": "light"
          },
          "output_type": "display_data"
        }
      ],
      "source": [
        "# using inertias to find optimal value of K\n",
        "import matplotlib.pyplot as plt\n",
        "plt.plot(K, inertias, 'bx-')\n",
        "plt.xlabel('Values of K')\n",
        "plt.ylabel('Inertia')\n",
        "plt.title('The Elbow Method using Inertia')\n",
        "plt.show()"
      ]
    },
    {
      "cell_type": "code",
      "execution_count": null,
      "metadata": {
        "id": "s1d9-bquaHUv",
        "outputId": "180f76e1-08f4-4641-bed2-75bd37baa4f1"
      },
      "outputs": [
        {
          "name": "stdout",
          "output_type": "stream",
          "text": [
            "Unique Elements: [0 1]\n",
            "\n",
            "Value Counts: [(0, 100), (1, 100)]\n"
          ]
        }
      ],
      "source": [
        "clustering, model = get_cluster_kmeans(sim_aff_mat, 2)\n",
        "unique_elements, counts_elements = np.unique(clustering, return_counts=True)\n",
        "print(\"Unique Elements:\", unique_elements)\n",
        "print(\"\\nValue Counts:\", list(zip(unique_elements, counts_elements)))"
      ]
    },
    {
      "cell_type": "code",
      "execution_count": null,
      "metadata": {
        "id": "R_Tyca4NaHUw",
        "outputId": "9ee07b4a-8cde-48ee-f543-7f24812f58c6"
      },
      "outputs": [
        {
          "data": {
            "image/png": "[encoded data removed]",
            "text/plain": [
              "<Figure size 864x864 with 2 Axes>"
            ]
          },
          "metadata": {},
          "output_type": "display_data"
        }
      ],
      "source": [
        "# heatmap that shows the similarity between every pair of documents\n",
        "import seaborn as sns\n",
        "\n",
        "with sns.axes_style(\"white\"):\n",
        "    f, ax = plt.subplots(figsize=(12, 12))\n",
        "    ax = sns.heatmap(sim_aff_mat, square=True)"
      ]
    },
    {
      "cell_type": "code",
      "execution_count": null,
      "metadata": {
        "id": "bCRyUEscaHWT"
      },
      "outputs": [],
      "source": [
        "from scipy.cluster.hierarchy import dendrogram\n",
        "\n",
        "def plot_dendrogram(model, **kwargs):\n",
        "    # Create linkage matrix and then plot the dendrogram\n",
        "\n",
        "    # create the counts of samples under each node\n",
        "    counts = np.zeros(model.children_.shape[0])\n",
        "    n_samples = len(model.labels_)\n",
        "    for i, merge in enumerate(model.children_):\n",
        "        current_count = 0\n",
        "        for child_idx in merge:\n",
        "            if child_idx < n_samples:\n",
        "                current_count += 1  # leaf node\n",
        "            else:\n",
        "                current_count += counts[child_idx - n_samples]\n",
        "        counts[i] = current_count\n",
        "\n",
        "    linkage_matrix = np.column_stack(\n",
        "        [model.children_, model.distances_, counts]\n",
        "    ).astype(float)\n",
        "\n",
        "    # Plot the corresponding dendrogram\n",
        "    dendrogram(linkage_matrix, **kwargs)\n",
        "\n",
        "from sklearn.cluster import AgglomerativeClustering\n",
        "model = AgglomerativeClustering(distance_threshold=0.0, n_clusters=None, affinity=sim_affinity, linkage=\"complete\")\n",
        "model = model.fit(X_train)\n",
        "plot_dendrogram(model, truncate_mode=\"level\", p=3)"
      ]
    }
  ],
  "metadata": {
    "interpreter": {
      "hash": "9c5a8d1ae379d35a3ef6f4635f13f61b80f963fd96ced72459a9887c17ad40e6"
    },
    "kernelspec": {
      "display_name": "Python 3.9.7 64-bit",
      "name": "python3"
    },
    "language_info": {
      "codemirror_mode": {
        "name": "ipython",
        "version": 3
      },
      "file_extension": ".py",
      "mimetype": "text/x-python",
      "name": "python",
      "nbconvert_exporter": "python",
      "pygments_lexer": "ipython3",
      "version": "3.9.7"
    },
    "orig_nbformat": 4,
    "colab": {
      "name": "clustering.ipynb",
      "provenance": []
    }
  },
  "nbformat": 4,
  "nbformat_minor": 0
}